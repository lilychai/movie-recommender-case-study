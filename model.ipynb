{
 "cells": [
  {
   "cell_type": "code",
   "execution_count": 1,
   "metadata": {
    "collapsed": false
   },
   "outputs": [],
   "source": [
    "import pandas as pd\n",
    "import numpy as np\n",
    "\n",
    "import graphlab"
   ]
  },
  {
   "cell_type": "markdown",
   "metadata": {},
   "source": [
    "<br>\n",
    "<br>\n",
    "<br>\n",
    "<hr style='background-color: #fff; border-top: 2px dashed #8c8b8b;'>\n",
    "# Load Data"
   ]
  },
  {
   "cell_type": "code",
   "execution_count": 2,
   "metadata": {
    "collapsed": false
   },
   "outputs": [
    {
     "name": "stderr",
     "output_type": "stream",
     "text": [
      "/Users/l/anaconda/lib/python2.7/site-packages/ipykernel/__main__.py:1: ParserWarning: Falling back to the 'python' engine because the 'c' engine does not support regex separators; you can avoid this warning by specifying engine='python'.\n",
      "  if __name__ == '__main__':\n",
      "/Users/l/anaconda/lib/python2.7/site-packages/ipykernel/__main__.py:4: ParserWarning: Falling back to the 'python' engine because the 'c' engine does not support regex separators; you can avoid this warning by specifying engine='python'.\n"
     ]
    }
   ],
   "source": [
    "df_users = pd.read_csv('data/users.dat', sep='::')\n",
    "df_users.columns = ['user_id', 'gender', 'age', 'occupation', 'zip']\n",
    "\n",
    "df_movies = pd.read_csv('data/movies.dat', sep='::')\n",
    "df_movies.columns = ['movie_id', 'title', 'genre']\n",
    "\n",
    "df_ratings = pd.read_csv('data/training_ratings.csv')\n",
    "df_submission = pd.read_csv('data/sample_submission.csv')"
   ]
  },
  {
   "cell_type": "markdown",
   "metadata": {},
   "source": [
    "<br>\n",
    "<br>\n",
    "<br>\n",
    "<hr style='background-color: #fff; border-top: 2px dashed #8c8b8b;'>\n",
    "# Users DataFrame"
   ]
  },
  {
   "cell_type": "code",
   "execution_count": 3,
   "metadata": {
    "collapsed": false
   },
   "outputs": [],
   "source": [
    "df_users['occupation'] = df_users['occupation'].astype(str)\n",
    "df_users['gender'] = df_users['gender'].astype(bool)\n",
    "df_users.rename(columns={'user_id': 'user'}, inplace=True)"
   ]
  },
  {
   "cell_type": "code",
   "execution_count": 4,
   "metadata": {
    "collapsed": false
   },
   "outputs": [
    {
     "name": "stdout",
     "output_type": "stream",
     "text": [
      "<class 'pandas.core.frame.DataFrame'>\n",
      "Int64Index: 6039 entries, 0 to 6038\n",
      "Data columns (total 5 columns):\n",
      "user          6039 non-null int64\n",
      "gender        6039 non-null bool\n",
      "age           6039 non-null int64\n",
      "occupation    6039 non-null object\n",
      "zip           6039 non-null object\n",
      "dtypes: bool(1), int64(2), object(2)\n",
      "memory usage: 241.8+ KB\n"
     ]
    }
   ],
   "source": [
    "df_users.info()"
   ]
  },
  {
   "cell_type": "markdown",
   "metadata": {},
   "source": [
    "# Movies DataFrame"
   ]
  },
  {
   "cell_type": "code",
   "execution_count": 5,
   "metadata": {
    "collapsed": false
   },
   "outputs": [],
   "source": [
    "genres = set()\n",
    "for m in df_movies.genre:\n",
    "   genres.update(g for g in m.split('|'))\n",
    "\n",
    "genres = sorted(genres)\n",
    "\n",
    "#make a column for each genre\n",
    "for genre in genres:\n",
    "   df_movies[genre] = [genre in movie.split('|') for movie in df_movies.genre]"
   ]
  },
  {
   "cell_type": "code",
   "execution_count": 6,
   "metadata": {
    "collapsed": false
   },
   "outputs": [],
   "source": [
    "df_movies.rename(columns={'movie_id': 'movie'}, inplace=True)\n",
    "df_movies['year'] = df_movies['title'].str[-5:-1].astype(int)\n",
    "df_movies['title'] = df_movies['title'].str[:-7]"
   ]
  },
  {
   "cell_type": "code",
   "execution_count": 7,
   "metadata": {
    "collapsed": false
   },
   "outputs": [
    {
     "name": "stdout",
     "output_type": "stream",
     "text": [
      "<class 'pandas.core.frame.DataFrame'>\n",
      "Int64Index: 3882 entries, 0 to 3881\n",
      "Data columns (total 22 columns):\n",
      "movie          3882 non-null int64\n",
      "title          3882 non-null object\n",
      "genre          3882 non-null object\n",
      "Action         3882 non-null bool\n",
      "Adventure      3882 non-null bool\n",
      "Animation      3882 non-null bool\n",
      "Children's     3882 non-null bool\n",
      "Comedy         3882 non-null bool\n",
      "Crime          3882 non-null bool\n",
      "Documentary    3882 non-null bool\n",
      "Drama          3882 non-null bool\n",
      "Fantasy        3882 non-null bool\n",
      "Film-Noir      3882 non-null bool\n",
      "Horror         3882 non-null bool\n",
      "Musical        3882 non-null bool\n",
      "Mystery        3882 non-null bool\n",
      "Romance        3882 non-null bool\n",
      "Sci-Fi         3882 non-null bool\n",
      "Thriller       3882 non-null bool\n",
      "War            3882 non-null bool\n",
      "Western        3882 non-null bool\n",
      "year           3882 non-null int64\n",
      "dtypes: bool(18), int64(2), object(2)\n",
      "memory usage: 219.9+ KB\n"
     ]
    }
   ],
   "source": [
    "df_movies.info()"
   ]
  },
  {
   "cell_type": "markdown",
   "metadata": {},
   "source": [
    "# Ratings"
   ]
  },
  {
   "cell_type": "code",
   "execution_count": 8,
   "metadata": {
    "collapsed": true
   },
   "outputs": [],
   "source": [
    "df_ratings['rating'] = df_ratings['rating'].astype(float)"
   ]
  },
  {
   "cell_type": "code",
   "execution_count": 9,
   "metadata": {
    "collapsed": false
   },
   "outputs": [
    {
     "name": "stdout",
     "output_type": "stream",
     "text": [
      "<class 'pandas.core.frame.DataFrame'>\n",
      "Int64Index: 500100 entries, 0 to 500099\n",
      "Data columns (total 4 columns):\n",
      "user      500100 non-null int64\n",
      "movie     500100 non-null int64\n",
      "rating    500100 non-null float64\n",
      "id        500100 non-null object\n",
      "dtypes: float64(1), int64(2), object(1)\n",
      "memory usage: 19.1+ MB\n",
      "None\n"
     ]
    }
   ],
   "source": [
    "print df_ratings.info()"
   ]
  },
  {
   "cell_type": "markdown",
   "metadata": {},
   "source": [
    "<br>\n",
    "<br>\n",
    "<br>\n",
    "<hr style='background-color: #fff; border-top: 2px dashed #8c8b8b;'>\n",
    "# Train-Test Split"
   ]
  },
  {
   "cell_type": "code",
   "execution_count": null,
   "metadata": {
    "collapsed": false
   },
   "outputs": [],
   "source": [
    "gdf_ratings = graphlab.SFrame(df_ratings.drop(['id'], axis=1))\n",
    "gdf_ratings['rating'] = gdf_ratings['rating'].astype(float)\n",
    "\n",
    "gdf_train_ratings, gdf_test_ratings = gdf_ratings.random_split(0.8)\n",
    "\n",
    "gdf_users   = graphlab.SFrame(df_users.drop(['zip'], axis=1))\n",
    "gdf_movies  = graphlab.SFrame(df_movies.drop(['genre', 'title'], axis=1))\n"
   ]
  },
  {
   "cell_type": "code",
   "execution_count": null,
   "metadata": {
    "collapsed": false
   },
   "outputs": [],
   "source": [
    "recommender = graphlab.recommender.item_similarity_recommender.create(gdf_train_ratings,\n",
    "                                                                      user_id='user',\n",
    "                                                                      item_id='movie',\n",
    "                                                                      target='rating',\n",
    "                                                                      user_data=gdf_users,\n",
    "                                                                      item_data=gdf_movies,\n",
    "                                                                      verbose=False)\n",
    "\n",
    "gdf_combined = gdf_train_ratings.append(gdf_test_ratings)\n",
    "movie_movie = gdf_combined.copy()\n",
    "movie_movie['rating'] = recommender.predict(gdf_combined)"
   ]
  },
  {
   "cell_type": "code",
   "execution_count": null,
   "metadata": {
    "collapsed": false
   },
   "outputs": [],
   "source": [
    "recommender = graphlab.recommender.item_similarity_recommender.create(gdf_train_ratings,\n",
    "                                                                      user_id='movie',\n",
    "                                                                      item_id='user',\n",
    "                                                                      target='rating',\n",
    "                                                                      user_data=gdf_movies,\n",
    "                                                                      item_data=gdf_users,\n",
    "                                                                      verbose=False)\n",
    "\n",
    "\n",
    "gdf_combined = gdf_train_ratings.append(gdf_test_ratings)\n",
    "user_user = gdf_combined.copy()\n",
    "user_user['rating'] = recommender.predict(gdf_combined)"
   ]
  },
  {
   "cell_type": "code",
   "execution_count": null,
   "metadata": {
    "collapsed": false
   },
   "outputs": [],
   "source": [
    "recommender = graphlab.recommender.factorization_recommender.create(gdf_train_ratings,\n",
    "                                                                    user_id='user',\n",
    "                                                                    item_id='movie',\n",
    "                                                                    target='rating',\n",
    "#                                                                     user_data=gdf_users,\n",
    "#                                                                     item_data=gdf_movies,\n",
    "                                                                    user_data=user_user,\n",
    "                                                                    item_data=movie_movie,\n",
    "                                                                    side_data_factorization=True,\n",
    "                                                                    max_iterations=100,\n",
    "#                                                                     sgd_step_size=5,\n",
    "#                                                                     num_factors = 30,\n",
    "                                                                    solver='auto',\n",
    "                                                                    verbose=False)"
   ]
  },
  {
   "cell_type": "code",
   "execution_count": null,
   "metadata": {
    "collapsed": false
   },
   "outputs": [],
   "source": [
    "print 'Training RMSE:', recommender.training_rmse\n",
    "\n",
    "gdf_predict = recommender.predict(gdf_test_ratings)\n",
    "print 'Testing RMSE:', np.sqrt(np.sum((gdf_test_ratings['rating'].to_numpy() - gdf_predict.to_numpy())**2)/len(gdf_test_ratings))"
   ]
  },
  {
   "cell_type": "markdown",
   "metadata": {},
   "source": [
    "<br>\n",
    "<br>\n",
    "<br>\n",
    "<hr style='background-color: #fff; border-top: 2px dashed #8c8b8b;'>\n",
    "\n",
    "# Moment of Truth... (dum dum dum)"
   ]
  },
  {
   "cell_type": "code",
   "execution_count": 37,
   "metadata": {
    "collapsed": false
   },
   "outputs": [],
   "source": [
    "gdf_ratings = graphlab.SFrame(df_ratings.drop(['id'], axis=1))\n",
    "\n",
    "gdf_users   = graphlab.SFrame(df_users.drop(['zip'], axis=1))\n",
    "gdf_movies  = graphlab.SFrame(df_movies.drop(['genre', 'title'], axis=1))"
   ]
  },
  {
   "cell_type": "code",
   "execution_count": 38,
   "metadata": {
    "collapsed": true
   },
   "outputs": [],
   "source": [
    "df_submission['movie'] = df_submission.id.str.split('_', expand=True)[1].astype(int)\n",
    "df_submission['rating'] = df_submission['rating'].astype(float)\n",
    "\n",
    "gdf_submission = graphlab.SFrame(df_submission.drop('id', axis=1))\n"
   ]
  },
  {
   "cell_type": "code",
   "execution_count": 108,
   "metadata": {
    "collapsed": false
   },
   "outputs": [
    {
     "name": "stdout",
     "output_type": "stream",
     "text": [
      "PROGRESS: Recsys training: model = popularity\n"
     ]
    }
   ],
   "source": [
    "recommender = graphlab.recommender.popularity_recommender.create(gdf_ratings,\n",
    "                                                                  user_id='user',\n",
    "                                                                  item_id='movie',\n",
    "                                                                  target='rating',\n",
    "#                                                                   user_data=gdf_users,\n",
    "#                                                                   item_data=gdf_movies,\n",
    "                                                                  verbose=False)\n",
    "popularity = recommender.predict(gdf_submission)"
   ]
  },
  {
   "cell_type": "code",
   "execution_count": 90,
   "metadata": {
    "collapsed": false
   },
   "outputs": [
    {
     "name": "stdout",
     "output_type": "stream",
     "text": [
      "PROGRESS: Recsys training: model = item_similarity\n",
      "PROGRESS: Finished prediction in 0.988146s\n"
     ]
    }
   ],
   "source": [
    "recommender = graphlab.recommender.item_similarity_recommender.create(gdf_ratings, \n",
    "                                                                      user_id='user',\n",
    "                                                                      item_id='movie',\n",
    "                                                                      target='rating',\n",
    "                                                                      user_data=gdf_users,\n",
    "                                                                      item_data=gdf_movies,\n",
    "                                                                      verbose=False)\n",
    "movie_movie = recommender.predict(gdf_submission)"
   ]
  },
  {
   "cell_type": "code",
   "execution_count": 91,
   "metadata": {
    "collapsed": false
   },
   "outputs": [
    {
     "name": "stdout",
     "output_type": "stream",
     "text": [
      "PROGRESS: Recsys training: model = item_similarity\n",
      "PROGRESS: Finished prediction in 0.390101s\n"
     ]
    }
   ],
   "source": [
    "recommender = graphlab.recommender.item_similarity_recommender.create(gdf_ratings, \n",
    "                                                                      user_id='movie',\n",
    "                                                                      item_id='user',\n",
    "                                                                      target='rating',\n",
    "                                                                      user_data=gdf_movies,\n",
    "                                                                      item_data=gdf_users,\n",
    "                                                                      verbose=False)\n",
    "user_user = recommender.predict(gdf_submission)"
   ]
  },
  {
   "cell_type": "code",
   "execution_count": 105,
   "metadata": {
    "collapsed": false
   },
   "outputs": [
    {
     "name": "stdout",
     "output_type": "stream",
     "text": [
      "PROGRESS: Recsys training: model = factorization_recommender\n"
     ]
    }
   ],
   "source": [
    "recommender = graphlab.recommender.factorization_recommender.create(gdf_ratings,\n",
    "                                                                    user_id='user',\n",
    "                                                                    item_id='movie',\n",
    "                                                                    target='rating',\n",
    "#                                                                     user_data=gdf_users,\n",
    "#                                                                     item_data=gdf_movies,\n",
    "                                                                    side_data_factorization=True,\n",
    "                                                                    max_iterations=200,\n",
    "                                                                    solver='auto',\n",
    "                                                                    verbose=False,\n",
    "                                                                     )\n",
    "factorization = recommender.predict(gdf_submission)"
   ]
  },
  {
   "cell_type": "code",
   "execution_count": null,
   "metadata": {
    "collapsed": true
   },
   "outputs": [],
   "source": []
  },
  {
   "cell_type": "code",
   "execution_count": 109,
   "metadata": {
    "collapsed": false
   },
   "outputs": [],
   "source": [
    "df_submission['rating'] = popularity #(popularity + factorization) / 2\n",
    "# df_submission['rating'] = recommender.predict(gdf_submission).to_numpy()\n",
    "df_submission.drop('movie', axis=1).to_csv('data/pred_ratings.csv', index=False)"
   ]
  },
  {
   "cell_type": "code",
   "execution_count": null,
   "metadata": {
    "collapsed": true
   },
   "outputs": [],
   "source": [
    "# python code/slack_poster.py data/pred_ratings.csv"
   ]
  },
  {
   "cell_type": "markdown",
   "metadata": {},
   "source": [
    "<br>\n",
    "<br>\n",
    "<br>\n",
    "<hr style='background-color: #fff; border-top: 2px dashed #8c8b8b;'>\n",
    "\n",
    "# Quick Evaluation"
   ]
  },
  {
   "cell_type": "code",
   "execution_count": 110,
   "metadata": {
    "collapsed": false
   },
   "outputs": [
    {
     "data": {
      "text/plain": [
       "4.3145297224407235"
      ]
     },
     "execution_count": 110,
     "metadata": {},
     "output_type": "execute_result"
    }
   ],
   "source": [
    "g = df_submission.groupby('user')\n",
    "\n",
    "top_5 = g.rating.transform(\n",
    "    lambda x: x >= x.quantile(.95)\n",
    ")\n",
    "\n",
    "test=pd.read_csv('data/dont_use.csv')\n",
    "test.rating.name='test_rating'\n",
    "test.rating[top_5==1].mean()"
   ]
  },
  {
   "cell_type": "code",
   "execution_count": null,
   "metadata": {
    "collapsed": true
   },
   "outputs": [],
   "source": []
  }
 ],
 "metadata": {
  "kernelspec": {
   "display_name": "Python 2",
   "language": "python",
   "name": "python2"
  },
  "language_info": {
   "codemirror_mode": {
    "name": "ipython",
    "version": 2
   },
   "file_extension": ".py",
   "mimetype": "text/x-python",
   "name": "python",
   "nbconvert_exporter": "python",
   "pygments_lexer": "ipython2",
   "version": "2.7.11"
  }
 },
 "nbformat": 4,
 "nbformat_minor": 0
}
