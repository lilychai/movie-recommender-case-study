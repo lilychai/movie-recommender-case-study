{
 "cells": [
  {
   "cell_type": "code",
   "execution_count": 1,
   "metadata": {
    "collapsed": false
   },
   "outputs": [],
   "source": [
    "import graphlab\n",
    "import pandas as pd\n",
    "import numpy as np\n"
   ]
  },
  {
   "cell_type": "markdown",
   "metadata": {},
   "source": [
    "## Get train and test data"
   ]
  },
  {
   "cell_type": "markdown",
   "metadata": {},
   "source": [
    "Get train and test data from movielens. Each set has >3000 unique users and >3000 unique movies. Most movies are present in both sets, but users have few overlap."
   ]
  },
  {
   "cell_type": "code",
   "execution_count": 2,
   "metadata": {
    "collapsed": false
   },
   "outputs": [
    {
     "data": {
      "text/plain": [
       "(500100, 4)"
      ]
     },
     "execution_count": 2,
     "metadata": {},
     "output_type": "execute_result"
    }
   ],
   "source": [
    "train = pd.read_csv('data/training_ratings.csv')\n",
    "train.shape"
   ]
  },
  {
   "cell_type": "code",
   "execution_count": 3,
   "metadata": {
    "collapsed": false
   },
   "outputs": [
    {
     "data": {
      "text/html": [
       "<div>\n",
       "<table border=\"1\" class=\"dataframe\">\n",
       "  <thead>\n",
       "    <tr style=\"text-align: right;\">\n",
       "      <th></th>\n",
       "      <th>user</th>\n",
       "      <th>movie</th>\n",
       "      <th>rating</th>\n",
       "      <th>id</th>\n",
       "    </tr>\n",
       "  </thead>\n",
       "  <tbody>\n",
       "    <tr>\n",
       "      <th>0</th>\n",
       "      <td>2783</td>\n",
       "      <td>1253</td>\n",
       "      <td>5</td>\n",
       "      <td>2783_1253</td>\n",
       "    </tr>\n",
       "    <tr>\n",
       "      <th>1</th>\n",
       "      <td>2783</td>\n",
       "      <td>589</td>\n",
       "      <td>5</td>\n",
       "      <td>2783_589</td>\n",
       "    </tr>\n",
       "    <tr>\n",
       "      <th>2</th>\n",
       "      <td>2783</td>\n",
       "      <td>1270</td>\n",
       "      <td>4</td>\n",
       "      <td>2783_1270</td>\n",
       "    </tr>\n",
       "    <tr>\n",
       "      <th>3</th>\n",
       "      <td>2783</td>\n",
       "      <td>1274</td>\n",
       "      <td>4</td>\n",
       "      <td>2783_1274</td>\n",
       "    </tr>\n",
       "    <tr>\n",
       "      <th>4</th>\n",
       "      <td>2783</td>\n",
       "      <td>741</td>\n",
       "      <td>5</td>\n",
       "      <td>2783_741</td>\n",
       "    </tr>\n",
       "  </tbody>\n",
       "</table>\n",
       "</div>"
      ],
      "text/plain": [
       "   user  movie  rating         id\n",
       "0  2783   1253       5  2783_1253\n",
       "1  2783    589       5   2783_589\n",
       "2  2783   1270       4  2783_1270\n",
       "3  2783   1274       4  2783_1274\n",
       "4  2783    741       5   2783_741"
      ]
     },
     "execution_count": 3,
     "metadata": {},
     "output_type": "execute_result"
    }
   ],
   "source": [
    "train.head()"
   ]
  },
  {
   "cell_type": "code",
   "execution_count": 4,
   "metadata": {
    "collapsed": false
   },
   "outputs": [
    {
     "name": "stdout",
     "output_type": "stream",
     "text": [
      "<class 'pandas.core.frame.DataFrame'>\n",
      "Int64Index: 500100 entries, 0 to 500099\n",
      "Data columns (total 4 columns):\n",
      "user      500100 non-null int64\n",
      "movie     500100 non-null int64\n",
      "rating    500100 non-null int64\n",
      "id        500100 non-null object\n",
      "dtypes: int64(3), object(1)\n",
      "memory usage: 19.1+ MB\n"
     ]
    }
   ],
   "source": [
    "train.info()"
   ]
  },
  {
   "cell_type": "code",
   "execution_count": 5,
   "metadata": {
    "collapsed": false
   },
   "outputs": [
    {
     "data": {
      "text/html": [
       "<div>\n",
       "<table border=\"1\" class=\"dataframe\">\n",
       "  <thead>\n",
       "    <tr style=\"text-align: right;\">\n",
       "      <th></th>\n",
       "      <th>user</th>\n",
       "      <th>movie</th>\n",
       "      <th>rating</th>\n",
       "    </tr>\n",
       "  </thead>\n",
       "  <tbody>\n",
       "    <tr>\n",
       "      <th>count</th>\n",
       "      <td>500100.000000</td>\n",
       "      <td>500100.000000</td>\n",
       "      <td>500100.000000</td>\n",
       "    </tr>\n",
       "    <tr>\n",
       "      <th>mean</th>\n",
       "      <td>4408.620518</td>\n",
       "      <td>1834.281214</td>\n",
       "      <td>3.602224</td>\n",
       "    </tr>\n",
       "    <tr>\n",
       "      <th>std</th>\n",
       "      <td>926.274862</td>\n",
       "      <td>1076.388887</td>\n",
       "      <td>1.114688</td>\n",
       "    </tr>\n",
       "    <tr>\n",
       "      <th>min</th>\n",
       "      <td>2783.000000</td>\n",
       "      <td>1.000000</td>\n",
       "      <td>1.000000</td>\n",
       "    </tr>\n",
       "    <tr>\n",
       "      <th>25%</th>\n",
       "      <td>3622.000000</td>\n",
       "      <td>1022.000000</td>\n",
       "      <td>3.000000</td>\n",
       "    </tr>\n",
       "    <tr>\n",
       "      <th>50%</th>\n",
       "      <td>4371.000000</td>\n",
       "      <td>1767.000000</td>\n",
       "      <td>4.000000</td>\n",
       "    </tr>\n",
       "    <tr>\n",
       "      <th>75%</th>\n",
       "      <td>5220.000000</td>\n",
       "      <td>2724.000000</td>\n",
       "      <td>4.000000</td>\n",
       "    </tr>\n",
       "    <tr>\n",
       "      <th>max</th>\n",
       "      <td>6040.000000</td>\n",
       "      <td>3952.000000</td>\n",
       "      <td>5.000000</td>\n",
       "    </tr>\n",
       "  </tbody>\n",
       "</table>\n",
       "</div>"
      ],
      "text/plain": [
       "                user          movie         rating\n",
       "count  500100.000000  500100.000000  500100.000000\n",
       "mean     4408.620518    1834.281214       3.602224\n",
       "std       926.274862    1076.388887       1.114688\n",
       "min      2783.000000       1.000000       1.000000\n",
       "25%      3622.000000    1022.000000       3.000000\n",
       "50%      4371.000000    1767.000000       4.000000\n",
       "75%      5220.000000    2724.000000       4.000000\n",
       "max      6040.000000    3952.000000       5.000000"
      ]
     },
     "execution_count": 5,
     "metadata": {},
     "output_type": "execute_result"
    }
   ],
   "source": [
    "train.describe()"
   ]
  },
  {
   "cell_type": "code",
   "execution_count": 6,
   "metadata": {
    "collapsed": false
   },
   "outputs": [
    {
     "data": {
      "text/plain": [
       "(500109, 3)"
      ]
     },
     "execution_count": 6,
     "metadata": {},
     "output_type": "execute_result"
    }
   ],
   "source": [
    "test = pd.read_csv('data/sample_submission.csv')\n",
    "test.shape"
   ]
  },
  {
   "cell_type": "code",
   "execution_count": 7,
   "metadata": {
    "collapsed": false
   },
   "outputs": [
    {
     "data": {
      "text/html": [
       "<div>\n",
       "<table border=\"1\" class=\"dataframe\">\n",
       "  <thead>\n",
       "    <tr style=\"text-align: right;\">\n",
       "      <th></th>\n",
       "      <th>user</th>\n",
       "      <th>rating</th>\n",
       "      <th>id</th>\n",
       "    </tr>\n",
       "  </thead>\n",
       "  <tbody>\n",
       "    <tr>\n",
       "      <th>0</th>\n",
       "      <td>1</td>\n",
       "      <td>3.5</td>\n",
       "      <td>1_1193</td>\n",
       "    </tr>\n",
       "    <tr>\n",
       "      <th>1</th>\n",
       "      <td>1</td>\n",
       "      <td>3.5</td>\n",
       "      <td>1_661</td>\n",
       "    </tr>\n",
       "    <tr>\n",
       "      <th>2</th>\n",
       "      <td>1</td>\n",
       "      <td>3.5</td>\n",
       "      <td>1_914</td>\n",
       "    </tr>\n",
       "    <tr>\n",
       "      <th>3</th>\n",
       "      <td>1</td>\n",
       "      <td>3.5</td>\n",
       "      <td>1_3408</td>\n",
       "    </tr>\n",
       "    <tr>\n",
       "      <th>4</th>\n",
       "      <td>1</td>\n",
       "      <td>3.5</td>\n",
       "      <td>1_2355</td>\n",
       "    </tr>\n",
       "  </tbody>\n",
       "</table>\n",
       "</div>"
      ],
      "text/plain": [
       "   user  rating      id\n",
       "0     1     3.5  1_1193\n",
       "1     1     3.5   1_661\n",
       "2     1     3.5   1_914\n",
       "3     1     3.5  1_3408\n",
       "4     1     3.5  1_2355"
      ]
     },
     "execution_count": 7,
     "metadata": {},
     "output_type": "execute_result"
    }
   ],
   "source": [
    "test.head()"
   ]
  },
  {
   "cell_type": "code",
   "execution_count": 8,
   "metadata": {
    "collapsed": true
   },
   "outputs": [],
   "source": [
    "test['movie'] = test.id.apply(lambda x: str(x).split('_')[1]).astype(int)"
   ]
  },
  {
   "cell_type": "code",
   "execution_count": 9,
   "metadata": {
    "collapsed": false
   },
   "outputs": [
    {
     "data": {
      "text/html": [
       "<div>\n",
       "<table border=\"1\" class=\"dataframe\">\n",
       "  <thead>\n",
       "    <tr style=\"text-align: right;\">\n",
       "      <th></th>\n",
       "      <th>user</th>\n",
       "      <th>rating</th>\n",
       "      <th>id</th>\n",
       "      <th>movie</th>\n",
       "    </tr>\n",
       "  </thead>\n",
       "  <tbody>\n",
       "    <tr>\n",
       "      <th>0</th>\n",
       "      <td>1</td>\n",
       "      <td>3.5</td>\n",
       "      <td>1_1193</td>\n",
       "      <td>1193</td>\n",
       "    </tr>\n",
       "    <tr>\n",
       "      <th>1</th>\n",
       "      <td>1</td>\n",
       "      <td>3.5</td>\n",
       "      <td>1_661</td>\n",
       "      <td>661</td>\n",
       "    </tr>\n",
       "    <tr>\n",
       "      <th>2</th>\n",
       "      <td>1</td>\n",
       "      <td>3.5</td>\n",
       "      <td>1_914</td>\n",
       "      <td>914</td>\n",
       "    </tr>\n",
       "    <tr>\n",
       "      <th>3</th>\n",
       "      <td>1</td>\n",
       "      <td>3.5</td>\n",
       "      <td>1_3408</td>\n",
       "      <td>3408</td>\n",
       "    </tr>\n",
       "    <tr>\n",
       "      <th>4</th>\n",
       "      <td>1</td>\n",
       "      <td>3.5</td>\n",
       "      <td>1_2355</td>\n",
       "      <td>2355</td>\n",
       "    </tr>\n",
       "  </tbody>\n",
       "</table>\n",
       "</div>"
      ],
      "text/plain": [
       "   user  rating      id  movie\n",
       "0     1     3.5  1_1193   1193\n",
       "1     1     3.5   1_661    661\n",
       "2     1     3.5   1_914    914\n",
       "3     1     3.5  1_3408   3408\n",
       "4     1     3.5  1_2355   2355"
      ]
     },
     "execution_count": 9,
     "metadata": {},
     "output_type": "execute_result"
    }
   ],
   "source": [
    "test.head()"
   ]
  },
  {
   "cell_type": "code",
   "execution_count": 10,
   "metadata": {
    "collapsed": false
   },
   "outputs": [
    {
     "name": "stdout",
     "output_type": "stream",
     "text": [
      "<class 'pandas.core.frame.DataFrame'>\n",
      "Int64Index: 500109 entries, 0 to 500108\n",
      "Data columns (total 4 columns):\n",
      "user      500109 non-null int64\n",
      "rating    500109 non-null float64\n",
      "id        500109 non-null object\n",
      "movie     500109 non-null int64\n",
      "dtypes: float64(1), int64(2), object(1)\n",
      "memory usage: 19.1+ MB\n"
     ]
    }
   ],
   "source": [
    "test.info()"
   ]
  },
  {
   "cell_type": "code",
   "execution_count": 11,
   "metadata": {
    "collapsed": false
   },
   "outputs": [
    {
     "name": "stdout",
     "output_type": "stream",
     "text": [
      "3643\n",
      "3415\n"
     ]
    }
   ],
   "source": [
    "print len(test.movie.unique())\n",
    "print len(test.user.unique())"
   ]
  },
  {
   "cell_type": "code",
   "execution_count": 12,
   "metadata": {
    "collapsed": false
   },
   "outputs": [
    {
     "name": "stdout",
     "output_type": "stream",
     "text": [
      "3551\n",
      "3255\n"
     ]
    }
   ],
   "source": [
    "print len(train.movie.unique())\n",
    "print len(train.user.unique())"
   ]
  },
  {
   "cell_type": "markdown",
   "metadata": {},
   "source": [
    "### How much overlap of users and movies between train and test"
   ]
  },
  {
   "cell_type": "markdown",
   "metadata": {},
   "source": [
    "The users are quite different between train and test, both train and test have 3200-3400 unique users and less than 800 users are present in both sets. This is a cold start problem."
   ]
  },
  {
   "cell_type": "code",
   "execution_count": 13,
   "metadata": {
    "collapsed": false
   },
   "outputs": [
    {
     "name": "stdout",
     "output_type": "stream",
     "text": [
      "2625\n",
      "2785\n"
     ]
    }
   ],
   "source": [
    "print len(set(train.user.unique()) - set(test.user.unique()))\n",
    "print len(set(test.user.unique()) - set(train.user.unique()))"
   ]
  },
  {
   "cell_type": "code",
   "execution_count": 14,
   "metadata": {
    "collapsed": false
   },
   "outputs": [
    {
     "name": "stdout",
     "output_type": "stream",
     "text": [
      "63\n",
      "155\n"
     ]
    }
   ],
   "source": [
    "print len(set(train.movie.unique()) - set(test.movie.unique()))\n",
    "print len(set(test.movie.unique()) - set(train.movie.unique()))"
   ]
  },
  {
   "cell_type": "markdown",
   "metadata": {},
   "source": [
    "## Side data - users"
   ]
  },
  {
   "cell_type": "code",
   "execution_count": 15,
   "metadata": {
    "collapsed": false
   },
   "outputs": [
    {
     "name": "stderr",
     "output_type": "stream",
     "text": [
      "/anaconda/lib/python2.7/site-packages/ipykernel/__main__.py:1: ParserWarning: Falling back to the 'python' engine because the 'c' engine does not support regex separators; you can avoid this warning by specifying engine='python'.\n",
      "  if __name__ == '__main__':\n"
     ]
    }
   ],
   "source": [
    "df_users = pd.read_csv('data/users.dat', sep='::')\n",
    "df_users.columns = ['user', 'gender', 'age', 'occupation', 'zip']"
   ]
  },
  {
   "cell_type": "code",
   "execution_count": 16,
   "metadata": {
    "collapsed": false
   },
   "outputs": [
    {
     "data": {
      "text/html": [
       "<div>\n",
       "<table border=\"1\" class=\"dataframe\">\n",
       "  <thead>\n",
       "    <tr style=\"text-align: right;\">\n",
       "      <th></th>\n",
       "      <th>user</th>\n",
       "      <th>gender</th>\n",
       "      <th>age</th>\n",
       "      <th>occupation</th>\n",
       "      <th>zip</th>\n",
       "    </tr>\n",
       "  </thead>\n",
       "  <tbody>\n",
       "    <tr>\n",
       "      <th>0</th>\n",
       "      <td>2</td>\n",
       "      <td>M</td>\n",
       "      <td>56</td>\n",
       "      <td>16</td>\n",
       "      <td>70072</td>\n",
       "    </tr>\n",
       "    <tr>\n",
       "      <th>1</th>\n",
       "      <td>3</td>\n",
       "      <td>M</td>\n",
       "      <td>25</td>\n",
       "      <td>15</td>\n",
       "      <td>55117</td>\n",
       "    </tr>\n",
       "    <tr>\n",
       "      <th>2</th>\n",
       "      <td>4</td>\n",
       "      <td>M</td>\n",
       "      <td>45</td>\n",
       "      <td>7</td>\n",
       "      <td>02460</td>\n",
       "    </tr>\n",
       "    <tr>\n",
       "      <th>3</th>\n",
       "      <td>5</td>\n",
       "      <td>M</td>\n",
       "      <td>25</td>\n",
       "      <td>20</td>\n",
       "      <td>55455</td>\n",
       "    </tr>\n",
       "    <tr>\n",
       "      <th>4</th>\n",
       "      <td>6</td>\n",
       "      <td>F</td>\n",
       "      <td>50</td>\n",
       "      <td>9</td>\n",
       "      <td>55117</td>\n",
       "    </tr>\n",
       "  </tbody>\n",
       "</table>\n",
       "</div>"
      ],
      "text/plain": [
       "   user gender  age  occupation    zip\n",
       "0     2      M   56          16  70072\n",
       "1     3      M   25          15  55117\n",
       "2     4      M   45           7  02460\n",
       "3     5      M   25          20  55455\n",
       "4     6      F   50           9  55117"
      ]
     },
     "execution_count": 16,
     "metadata": {},
     "output_type": "execute_result"
    }
   ],
   "source": [
    "df_users.head()"
   ]
  },
  {
   "cell_type": "code",
   "execution_count": 17,
   "metadata": {
    "collapsed": false
   },
   "outputs": [
    {
     "name": "stdout",
     "output_type": "stream",
     "text": [
      "<class 'pandas.core.frame.DataFrame'>\n",
      "Int64Index: 6039 entries, 0 to 6038\n",
      "Data columns (total 5 columns):\n",
      "user          6039 non-null int64\n",
      "gender        6039 non-null object\n",
      "age           6039 non-null int64\n",
      "occupation    6039 non-null int64\n",
      "zip           6039 non-null object\n",
      "dtypes: int64(3), object(2)\n",
      "memory usage: 283.1+ KB\n"
     ]
    }
   ],
   "source": [
    "df_users.info()"
   ]
  },
  {
   "cell_type": "code",
   "execution_count": 18,
   "metadata": {
    "collapsed": true
   },
   "outputs": [],
   "source": [
    "#change data type of 'occupation'\n",
    "df_users['occupation'] = df_users['occupation'].astype(str)"
   ]
  },
  {
   "cell_type": "markdown",
   "metadata": {},
   "source": [
    "## Side data - movies"
   ]
  },
  {
   "cell_type": "code",
   "execution_count": 19,
   "metadata": {
    "collapsed": false
   },
   "outputs": [
    {
     "name": "stderr",
     "output_type": "stream",
     "text": [
      "/anaconda/lib/python2.7/site-packages/ipykernel/__main__.py:1: ParserWarning: Falling back to the 'python' engine because the 'c' engine does not support regex separators; you can avoid this warning by specifying engine='python'.\n",
      "  if __name__ == '__main__':\n"
     ]
    },
    {
     "data": {
      "text/html": [
       "<div>\n",
       "<table border=\"1\" class=\"dataframe\">\n",
       "  <thead>\n",
       "    <tr style=\"text-align: right;\">\n",
       "      <th></th>\n",
       "      <th>movie_id</th>\n",
       "      <th>title</th>\n",
       "      <th>genre</th>\n",
       "    </tr>\n",
       "  </thead>\n",
       "  <tbody>\n",
       "    <tr>\n",
       "      <th>0</th>\n",
       "      <td>2</td>\n",
       "      <td>Jumanji (1995)</td>\n",
       "      <td>Adventure|Children's|Fantasy</td>\n",
       "    </tr>\n",
       "    <tr>\n",
       "      <th>1</th>\n",
       "      <td>3</td>\n",
       "      <td>Grumpier Old Men (1995)</td>\n",
       "      <td>Comedy|Romance</td>\n",
       "    </tr>\n",
       "    <tr>\n",
       "      <th>2</th>\n",
       "      <td>4</td>\n",
       "      <td>Waiting to Exhale (1995)</td>\n",
       "      <td>Comedy|Drama</td>\n",
       "    </tr>\n",
       "    <tr>\n",
       "      <th>3</th>\n",
       "      <td>5</td>\n",
       "      <td>Father of the Bride Part II (1995)</td>\n",
       "      <td>Comedy</td>\n",
       "    </tr>\n",
       "    <tr>\n",
       "      <th>4</th>\n",
       "      <td>6</td>\n",
       "      <td>Heat (1995)</td>\n",
       "      <td>Action|Crime|Thriller</td>\n",
       "    </tr>\n",
       "  </tbody>\n",
       "</table>\n",
       "</div>"
      ],
      "text/plain": [
       "   movie_id                               title                         genre\n",
       "0         2                      Jumanji (1995)  Adventure|Children's|Fantasy\n",
       "1         3             Grumpier Old Men (1995)                Comedy|Romance\n",
       "2         4            Waiting to Exhale (1995)                  Comedy|Drama\n",
       "3         5  Father of the Bride Part II (1995)                        Comedy\n",
       "4         6                         Heat (1995)         Action|Crime|Thriller"
      ]
     },
     "execution_count": 19,
     "metadata": {},
     "output_type": "execute_result"
    }
   ],
   "source": [
    "df_movies = pd.read_csv('data/movies.dat', sep='::')\n",
    "df_movies.columns = ['movie_id', 'title', 'genre']\n",
    "df_movies.head()"
   ]
  },
  {
   "cell_type": "code",
   "execution_count": 20,
   "metadata": {
    "collapsed": true
   },
   "outputs": [],
   "source": [
    "genres = set()\n",
    "for m in df_movies.genre:\n",
    "    genres.update(g for g in m.split('|'))\n",
    "genres = sorted(genres)\n",
    "\n",
    "#make a column for each genre\n",
    "for genre in genres:\n",
    "    df_movies[genre] = [genre in movie.split('|') for movie in df_movies.genre]"
   ]
  },
  {
   "cell_type": "code",
   "execution_count": 21,
   "metadata": {
    "collapsed": false
   },
   "outputs": [
    {
     "data": {
      "text/plain": [
       "18"
      ]
     },
     "execution_count": 21,
     "metadata": {},
     "output_type": "execute_result"
    }
   ],
   "source": [
    "len(genres)"
   ]
  },
  {
   "cell_type": "code",
   "execution_count": 22,
   "metadata": {
    "collapsed": false
   },
   "outputs": [],
   "source": [
    "df_movies.rename(columns={'movie_id': 'movie'}, inplace=True)\n",
    "df_movies['year'] = df_movies['title'].str[-5:-1].astype(int)\n",
    "df_movies['title'] = df_movies['title'].str[:-7]"
   ]
  },
  {
   "cell_type": "code",
   "execution_count": 23,
   "metadata": {
    "collapsed": false
   },
   "outputs": [
    {
     "data": {
      "text/html": [
       "<div>\n",
       "<table border=\"1\" class=\"dataframe\">\n",
       "  <thead>\n",
       "    <tr style=\"text-align: right;\">\n",
       "      <th></th>\n",
       "      <th>movie</th>\n",
       "      <th>title</th>\n",
       "      <th>genre</th>\n",
       "      <th>Action</th>\n",
       "      <th>Adventure</th>\n",
       "      <th>Animation</th>\n",
       "      <th>Children's</th>\n",
       "      <th>Comedy</th>\n",
       "      <th>Crime</th>\n",
       "      <th>Documentary</th>\n",
       "      <th>...</th>\n",
       "      <th>Film-Noir</th>\n",
       "      <th>Horror</th>\n",
       "      <th>Musical</th>\n",
       "      <th>Mystery</th>\n",
       "      <th>Romance</th>\n",
       "      <th>Sci-Fi</th>\n",
       "      <th>Thriller</th>\n",
       "      <th>War</th>\n",
       "      <th>Western</th>\n",
       "      <th>year</th>\n",
       "    </tr>\n",
       "  </thead>\n",
       "  <tbody>\n",
       "    <tr>\n",
       "      <th>0</th>\n",
       "      <td>2</td>\n",
       "      <td>Jumanji</td>\n",
       "      <td>Adventure|Children's|Fantasy</td>\n",
       "      <td>False</td>\n",
       "      <td>True</td>\n",
       "      <td>False</td>\n",
       "      <td>True</td>\n",
       "      <td>False</td>\n",
       "      <td>False</td>\n",
       "      <td>False</td>\n",
       "      <td>...</td>\n",
       "      <td>False</td>\n",
       "      <td>False</td>\n",
       "      <td>False</td>\n",
       "      <td>False</td>\n",
       "      <td>False</td>\n",
       "      <td>False</td>\n",
       "      <td>False</td>\n",
       "      <td>False</td>\n",
       "      <td>False</td>\n",
       "      <td>1995</td>\n",
       "    </tr>\n",
       "    <tr>\n",
       "      <th>1</th>\n",
       "      <td>3</td>\n",
       "      <td>Grumpier Old Men</td>\n",
       "      <td>Comedy|Romance</td>\n",
       "      <td>False</td>\n",
       "      <td>False</td>\n",
       "      <td>False</td>\n",
       "      <td>False</td>\n",
       "      <td>True</td>\n",
       "      <td>False</td>\n",
       "      <td>False</td>\n",
       "      <td>...</td>\n",
       "      <td>False</td>\n",
       "      <td>False</td>\n",
       "      <td>False</td>\n",
       "      <td>False</td>\n",
       "      <td>True</td>\n",
       "      <td>False</td>\n",
       "      <td>False</td>\n",
       "      <td>False</td>\n",
       "      <td>False</td>\n",
       "      <td>1995</td>\n",
       "    </tr>\n",
       "    <tr>\n",
       "      <th>2</th>\n",
       "      <td>4</td>\n",
       "      <td>Waiting to Exhale</td>\n",
       "      <td>Comedy|Drama</td>\n",
       "      <td>False</td>\n",
       "      <td>False</td>\n",
       "      <td>False</td>\n",
       "      <td>False</td>\n",
       "      <td>True</td>\n",
       "      <td>False</td>\n",
       "      <td>False</td>\n",
       "      <td>...</td>\n",
       "      <td>False</td>\n",
       "      <td>False</td>\n",
       "      <td>False</td>\n",
       "      <td>False</td>\n",
       "      <td>False</td>\n",
       "      <td>False</td>\n",
       "      <td>False</td>\n",
       "      <td>False</td>\n",
       "      <td>False</td>\n",
       "      <td>1995</td>\n",
       "    </tr>\n",
       "    <tr>\n",
       "      <th>3</th>\n",
       "      <td>5</td>\n",
       "      <td>Father of the Bride Part II</td>\n",
       "      <td>Comedy</td>\n",
       "      <td>False</td>\n",
       "      <td>False</td>\n",
       "      <td>False</td>\n",
       "      <td>False</td>\n",
       "      <td>True</td>\n",
       "      <td>False</td>\n",
       "      <td>False</td>\n",
       "      <td>...</td>\n",
       "      <td>False</td>\n",
       "      <td>False</td>\n",
       "      <td>False</td>\n",
       "      <td>False</td>\n",
       "      <td>False</td>\n",
       "      <td>False</td>\n",
       "      <td>False</td>\n",
       "      <td>False</td>\n",
       "      <td>False</td>\n",
       "      <td>1995</td>\n",
       "    </tr>\n",
       "    <tr>\n",
       "      <th>4</th>\n",
       "      <td>6</td>\n",
       "      <td>Heat</td>\n",
       "      <td>Action|Crime|Thriller</td>\n",
       "      <td>True</td>\n",
       "      <td>False</td>\n",
       "      <td>False</td>\n",
       "      <td>False</td>\n",
       "      <td>False</td>\n",
       "      <td>True</td>\n",
       "      <td>False</td>\n",
       "      <td>...</td>\n",
       "      <td>False</td>\n",
       "      <td>False</td>\n",
       "      <td>False</td>\n",
       "      <td>False</td>\n",
       "      <td>False</td>\n",
       "      <td>False</td>\n",
       "      <td>True</td>\n",
       "      <td>False</td>\n",
       "      <td>False</td>\n",
       "      <td>1995</td>\n",
       "    </tr>\n",
       "  </tbody>\n",
       "</table>\n",
       "<p>5 rows × 22 columns</p>\n",
       "</div>"
      ],
      "text/plain": [
       "   movie                        title                         genre Action  \\\n",
       "0      2                      Jumanji  Adventure|Children's|Fantasy  False   \n",
       "1      3             Grumpier Old Men                Comedy|Romance  False   \n",
       "2      4            Waiting to Exhale                  Comedy|Drama  False   \n",
       "3      5  Father of the Bride Part II                        Comedy  False   \n",
       "4      6                         Heat         Action|Crime|Thriller   True   \n",
       "\n",
       "  Adventure Animation Children's Comedy  Crime Documentary  ...  Film-Noir  \\\n",
       "0      True     False       True  False  False       False  ...      False   \n",
       "1     False     False      False   True  False       False  ...      False   \n",
       "2     False     False      False   True  False       False  ...      False   \n",
       "3     False     False      False   True  False       False  ...      False   \n",
       "4     False     False      False  False   True       False  ...      False   \n",
       "\n",
       "  Horror Musical Mystery Romance Sci-Fi Thriller    War Western  year  \n",
       "0  False   False   False   False  False    False  False   False  1995  \n",
       "1  False   False   False    True  False    False  False   False  1995  \n",
       "2  False   False   False   False  False    False  False   False  1995  \n",
       "3  False   False   False   False  False    False  False   False  1995  \n",
       "4  False   False   False   False  False     True  False   False  1995  \n",
       "\n",
       "[5 rows x 22 columns]"
      ]
     },
     "execution_count": 23,
     "metadata": {},
     "output_type": "execute_result"
    }
   ],
   "source": [
    "df_movies.head()"
   ]
  },
  {
   "cell_type": "code",
   "execution_count": 24,
   "metadata": {
    "collapsed": false
   },
   "outputs": [
    {
     "name": "stdout",
     "output_type": "stream",
     "text": [
      "<class 'pandas.core.frame.DataFrame'>\n",
      "Int64Index: 3882 entries, 0 to 3881\n",
      "Data columns (total 22 columns):\n",
      "movie          3882 non-null int64\n",
      "title          3882 non-null object\n",
      "genre          3882 non-null object\n",
      "Action         3882 non-null bool\n",
      "Adventure      3882 non-null bool\n",
      "Animation      3882 non-null bool\n",
      "Children's     3882 non-null bool\n",
      "Comedy         3882 non-null bool\n",
      "Crime          3882 non-null bool\n",
      "Documentary    3882 non-null bool\n",
      "Drama          3882 non-null bool\n",
      "Fantasy        3882 non-null bool\n",
      "Film-Noir      3882 non-null bool\n",
      "Horror         3882 non-null bool\n",
      "Musical        3882 non-null bool\n",
      "Mystery        3882 non-null bool\n",
      "Romance        3882 non-null bool\n",
      "Sci-Fi         3882 non-null bool\n",
      "Thriller       3882 non-null bool\n",
      "War            3882 non-null bool\n",
      "Western        3882 non-null bool\n",
      "year           3882 non-null int64\n",
      "dtypes: bool(18), int64(2), object(2)\n",
      "memory usage: 219.9+ KB\n"
     ]
    }
   ],
   "source": [
    "df_movies.info()"
   ]
  },
  {
   "cell_type": "markdown",
   "metadata": {
    "collapsed": true
   },
   "source": [
    "# Modeling with factorization_recommender"
   ]
  },
  {
   "cell_type": "code",
   "execution_count": 25,
   "metadata": {
    "collapsed": false
   },
   "outputs": [
    {
     "name": "stdout",
     "output_type": "stream",
     "text": [
      "<class 'pandas.core.frame.DataFrame'>\n",
      "Int64Index: 500100 entries, 0 to 500099\n",
      "Data columns (total 4 columns):\n",
      "user      500100 non-null int64\n",
      "movie     500100 non-null int64\n",
      "rating    500100 non-null float64\n",
      "id        500100 non-null object\n",
      "dtypes: float64(1), int64(2), object(1)\n",
      "memory usage: 19.1+ MB\n"
     ]
    }
   ],
   "source": [
    "train['rating'] = train['rating'].astype(float)\n",
    "train.info()"
   ]
  },
  {
   "cell_type": "code",
   "execution_count": 27,
   "metadata": {
    "collapsed": false
   },
   "outputs": [],
   "source": [
    "gdf_ratings = graphlab.SFrame(train.drop(['id'], axis=1))\n",
    "\n",
    "gdf_users   = graphlab.SFrame(df_users.drop(['zip'], axis=1))\n",
    "gdf_movies  = graphlab.SFrame(df_movies.drop(['genre', 'title'], axis=1))"
   ]
  },
  {
   "cell_type": "markdown",
   "metadata": {},
   "source": [
    "## Use deafult setting for factorization_recommender"
   ]
  },
  {
   "cell_type": "code",
   "execution_count": 28,
   "metadata": {
    "collapsed": false
   },
   "outputs": [
    {
     "name": "stdout",
     "output_type": "stream",
     "text": [
      "PROGRESS: Recsys training: model = factorization_recommender\n"
     ]
    }
   ],
   "source": [
    "recommender = graphlab.recommender.factorization_recommender.create(gdf_ratings,\n",
    "                                                                    user_id='user',\n",
    "                                                                    item_id='movie',\n",
    "                                                                    target='rating',\n",
    "                                                                    user_data=gdf_users,\n",
    "                                                                    item_data=gdf_movies,\n",
    "                                                                    side_data_factorization=True,\n",
    "                                                                    verbose=False)"
   ]
  },
  {
   "cell_type": "code",
   "execution_count": 29,
   "metadata": {
    "collapsed": false
   },
   "outputs": [
    {
     "data": {
      "text/plain": [
       "8"
      ]
     },
     "execution_count": 29,
     "metadata": {},
     "output_type": "execute_result"
    }
   ],
   "source": [
    "recommender.num_factors"
   ]
  },
  {
   "cell_type": "code",
   "execution_count": 30,
   "metadata": {
    "collapsed": false
   },
   "outputs": [
    {
     "data": {
      "text/plain": [
       "1e-08"
      ]
     },
     "execution_count": 30,
     "metadata": {},
     "output_type": "execute_result"
    }
   ],
   "source": [
    "recommender.regularization"
   ]
  },
  {
   "cell_type": "code",
   "execution_count": 31,
   "metadata": {
    "collapsed": false
   },
   "outputs": [
    {
     "data": {
      "text/plain": [
       "'auto'"
      ]
     },
     "execution_count": 31,
     "metadata": {},
     "output_type": "execute_result"
    }
   ],
   "source": [
    "recommender.solver"
   ]
  },
  {
   "cell_type": "code",
   "execution_count": 32,
   "metadata": {
    "collapsed": false
   },
   "outputs": [
    {
     "data": {
      "text/plain": [
       "50"
      ]
     },
     "execution_count": 32,
     "metadata": {},
     "output_type": "execute_result"
    }
   ],
   "source": [
    "recommender.max_iterations"
   ]
  },
  {
   "cell_type": "markdown",
   "metadata": {
    "collapsed": true
   },
   "source": [
    "## Train/test split for cross-validation"
   ]
  },
  {
   "cell_type": "markdown",
   "metadata": {},
   "source": [
    "Use util.random_split_by_user to make training and validation subset.\n",
    "Check various parameters based on RMSE. Suprisingly, the default setting, which results in num_factor=8, max_iteractions=50, solver=auto, gave the lowest RMSE. When I tried to increase num_factor, max_iteractions, or solver, RMSE went up."
   ]
  },
  {
   "cell_type": "markdown",
   "metadata": {},
   "source": [
    "I also tried different solver method. The default 'sgd', and 'adagrad' are the best, while 'als' has higher RMSE."
   ]
  },
  {
   "cell_type": "code",
   "execution_count": 33,
   "metadata": {
    "collapsed": false
   },
   "outputs": [],
   "source": [
    "training_subset, validation_subset = \\\n",
    "graphlab.recommender.util.random_split_by_user(gdf_ratings,\n",
    "                                               user_id=\"user\", \n",
    "                                               item_id=\"movie\",\n",
    "                                               item_test_proportion=0.3) "
   ]
  },
  {
   "cell_type": "code",
   "execution_count": 34,
   "metadata": {
    "collapsed": false
   },
   "outputs": [
    {
     "name": "stdout",
     "output_type": "stream",
     "text": [
      "PROGRESS: Recsys training: model = factorization_recommender\n"
     ]
    }
   ],
   "source": [
    "model_1 = graphlab.recommender.factorization_recommender.create(training_subset,\n",
    "                                                                    user_id='user',\n",
    "                                                                    item_id='movie',\n",
    "                                                                    target='rating',\n",
    "                                                                    user_data=gdf_users,\n",
    "                                                                    item_data=gdf_movies,\n",
    "                                                                    side_data_factorization=True,\n",
    "                                                                    verbose=False)"
   ]
  },
  {
   "cell_type": "code",
   "execution_count": 35,
   "metadata": {
    "collapsed": false
   },
   "outputs": [
    {
     "data": {
      "text/plain": [
       "0.8863974757135484"
      ]
     },
     "execution_count": 35,
     "metadata": {},
     "output_type": "execute_result"
    }
   ],
   "source": [
    "rmse_1 = model_1.evaluate(validation_subset,verbose=False)\n",
    "rmse_1['rmse_overall']"
   ]
  },
  {
   "cell_type": "code",
   "execution_count": 36,
   "metadata": {
    "collapsed": false
   },
   "outputs": [
    {
     "name": "stdout",
     "output_type": "stream",
     "text": [
      "PROGRESS: Recsys training: model = factorization_recommender\n"
     ]
    }
   ],
   "source": [
    "#Increase num_factors and max_iterations, and solver='sgd'\n",
    "model_2 = graphlab.recommender.factorization_recommender.create(training_subset,\n",
    "                                                                    user_id='user',\n",
    "                                                                    item_id='movie',\n",
    "                                                                    target='rating',\n",
    "                                                                    user_data=gdf_users,\n",
    "                                                                    item_data=gdf_movies,\n",
    "                                                                    side_data_factorization=True,\n",
    "                                                                    max_iterations = 200,\n",
    "                                                                    num_factors = 20,\n",
    "                                                                    solver='sgd',\n",
    "                                                                    verbose=False)"
   ]
  },
  {
   "cell_type": "code",
   "execution_count": 37,
   "metadata": {
    "collapsed": false
   },
   "outputs": [
    {
     "data": {
      "text/plain": [
       "1.1087815373222412"
      ]
     },
     "execution_count": 37,
     "metadata": {},
     "output_type": "execute_result"
    }
   ],
   "source": [
    "#RMSE is worse, most likely because num_factors\n",
    "rmse_2 = model_2.evaluate(validation_subset,verbose=False)\n",
    "rmse_2['rmse_overall']"
   ]
  },
  {
   "cell_type": "code",
   "execution_count": 38,
   "metadata": {
    "collapsed": false
   },
   "outputs": [
    {
     "name": "stdout",
     "output_type": "stream",
     "text": [
      "PROGRESS: Recsys training: model = factorization_recommender\n"
     ]
    }
   ],
   "source": [
    "#reduce max_iterations\n",
    "model_3 = graphlab.recommender.factorization_recommender.create(training_subset,\n",
    "                                                                    user_id='user',\n",
    "                                                                    item_id='movie',\n",
    "                                                                    target='rating',\n",
    "                                                                    user_data=gdf_users,\n",
    "                                                                    item_data=gdf_movies,\n",
    "                                                                    side_data_factorization=True,\n",
    "                                                                    num_factors = 10,\n",
    "                                                                    max_iterations=50,\n",
    "                                                                    solver='sgd',\n",
    "                                                                    verbose=False)"
   ]
  },
  {
   "cell_type": "code",
   "execution_count": 39,
   "metadata": {
    "collapsed": false
   },
   "outputs": [
    {
     "data": {
      "text/plain": [
       "1.1166233711156477"
      ]
     },
     "execution_count": 39,
     "metadata": {},
     "output_type": "execute_result"
    }
   ],
   "source": [
    "#RMSE is still worse\n",
    "rmse_3 = model_3.evaluate(validation_subset,verbose=False)\n",
    "rmse_3['rmse_overall']"
   ]
  },
  {
   "cell_type": "code",
   "execution_count": 40,
   "metadata": {
    "collapsed": false
   },
   "outputs": [
    {
     "name": "stdout",
     "output_type": "stream",
     "text": [
      "PROGRESS: Recsys training: model = factorization_recommender\n"
     ]
    }
   ],
   "source": [
    "#reduce num_factors to 8, still not as good as default model, 'sgd' vs 'auto'\n",
    "model_4 = graphlab.recommender.factorization_recommender.create(training_subset,\n",
    "                                                                    user_id='user',\n",
    "                                                                    item_id='movie',\n",
    "                                                                    target='rating',\n",
    "                                                                    user_data=gdf_users,\n",
    "                                                                    item_data=gdf_movies,\n",
    "                                                                    side_data_factorization=True,\n",
    "                                                                    num_factors = 8,\n",
    "                                                                    max_iterations=50,\n",
    "                                                                    solver='sgd',\n",
    "                                                                    verbose=False)"
   ]
  },
  {
   "cell_type": "code",
   "execution_count": 42,
   "metadata": {
    "collapsed": false
   },
   "outputs": [
    {
     "data": {
      "text/plain": [
       "1.1075197907073209"
      ]
     },
     "execution_count": 42,
     "metadata": {},
     "output_type": "execute_result"
    }
   ],
   "source": [
    "rmse_4 = model_4.evaluate(validation_subset,verbose=False)\n",
    "rmse_4['rmse_overall']"
   ]
  },
  {
   "cell_type": "code",
   "execution_count": 43,
   "metadata": {
    "collapsed": false
   },
   "outputs": [
    {
     "name": "stdout",
     "output_type": "stream",
     "text": [
      "PROGRESS: Recsys training: model = factorization_recommender\n"
     ]
    }
   ],
   "source": [
    "#try a different solver, adagrad, pretty close to default model\n",
    "model_5 = graphlab.recommender.factorization_recommender.create(training_subset,\n",
    "                                                                    user_id='user',\n",
    "                                                                    item_id='movie',\n",
    "                                                                    target='rating',\n",
    "                                                                    user_data=gdf_users,\n",
    "                                                                    item_data=gdf_movies,\n",
    "                                                                    solver='adagrad',\n",
    "                                                                    side_data_factorization=True,\n",
    "                                                                    verbose=False)"
   ]
  },
  {
   "cell_type": "code",
   "execution_count": 44,
   "metadata": {
    "collapsed": false
   },
   "outputs": [
    {
     "data": {
      "text/plain": [
       "0.8915285482300347"
      ]
     },
     "execution_count": 44,
     "metadata": {},
     "output_type": "execute_result"
    }
   ],
   "source": [
    "rmse_5 = model_5.evaluate(validation_subset,verbose=False)\n",
    "rmse_5['rmse_overall']"
   ]
  },
  {
   "cell_type": "code",
   "execution_count": 45,
   "metadata": {
    "collapsed": false
   },
   "outputs": [
    {
     "name": "stdout",
     "output_type": "stream",
     "text": [
      "PROGRESS: Recsys training: model = factorization_recommender\n"
     ]
    }
   ],
   "source": [
    "#try another solver, als, not as good as 'auto' or 'adagrad'\n",
    "model_6 = graphlab.recommender.factorization_recommender.create(training_subset,\n",
    "                                                                    user_id='user',\n",
    "                                                                    item_id='movie',\n",
    "                                                                    target='rating',\n",
    "                                                                    user_data=gdf_users,\n",
    "                                                                    item_data=gdf_movies,\n",
    "                                                                    solver='als',\n",
    "                                                                    side_data_factorization=True,\n",
    "                                                                    verbose=False)"
   ]
  },
  {
   "cell_type": "code",
   "execution_count": 46,
   "metadata": {
    "collapsed": false
   },
   "outputs": [
    {
     "data": {
      "text/plain": [
       "1.1194155389175386"
      ]
     },
     "execution_count": 46,
     "metadata": {},
     "output_type": "execute_result"
    }
   ],
   "source": [
    "rmse_6 = model_6.evaluate(validation_subset,verbose=False)\n",
    "rmse_6['rmse_overall']"
   ]
  },
  {
   "cell_type": "markdown",
   "metadata": {},
   "source": [
    "## Try models other than factorization_recommender"
   ]
  },
  {
   "cell_type": "markdown",
   "metadata": {},
   "source": [
    "Use item_similarity_recommender and popularity_recommender. Use both user and movie for item in item_similarity_recommender. Judging by RMSE, popularity is slightly better than model_movie, and both are better than model_user, but none is as good as factorization_recommender."
   ]
  },
  {
   "cell_type": "code",
   "execution_count": 47,
   "metadata": {
    "collapsed": false
   },
   "outputs": [
    {
     "name": "stdout",
     "output_type": "stream",
     "text": [
      "PROGRESS: Recsys training: model = item_similarity\n"
     ]
    }
   ],
   "source": [
    "model_user = graphlab.recommender.item_similarity_recommender.create(training_subset, \n",
    "                                                                      user_id='movie',\n",
    "                                                                      item_id='user',\n",
    "                                                                      target='rating',\n",
    "                                                                      user_data=gdf_movies,\n",
    "                                                                      item_data=gdf_users,\n",
    "                                                                      verbose=False)"
   ]
  },
  {
   "cell_type": "code",
   "execution_count": 48,
   "metadata": {
    "collapsed": false
   },
   "outputs": [
    {
     "name": "stdout",
     "output_type": "stream",
     "text": [
      "PROGRESS: Finished prediction in 0.127693s\n"
     ]
    },
    {
     "data": {
      "text/plain": [
       "1.2763729028774933"
      ]
     },
     "execution_count": 48,
     "metadata": {},
     "output_type": "execute_result"
    }
   ],
   "source": [
    "rmse_user = model_user.evaluate(validation_subset,verbose=False)\n",
    "rmse_user['rmse_overall']"
   ]
  },
  {
   "cell_type": "code",
   "execution_count": 49,
   "metadata": {
    "collapsed": false
   },
   "outputs": [
    {
     "name": "stdout",
     "output_type": "stream",
     "text": [
      "PROGRESS: Recsys training: model = item_similarity\n"
     ]
    }
   ],
   "source": [
    "#use item_similarity_recommender, with 'movie' as item\n",
    "model_movie = graphlab.recommender.item_similarity_recommender.create(training_subset, \n",
    "                                                                      user_id='user',\n",
    "                                                                      item_id='movie',\n",
    "                                                                      target='rating',\n",
    "                                                                      user_data=gdf_users,\n",
    "                                                                      item_data=gdf_movies,\n",
    "                                                                      verbose=False)"
   ]
  },
  {
   "cell_type": "code",
   "execution_count": 50,
   "metadata": {
    "collapsed": false
   },
   "outputs": [
    {
     "name": "stdout",
     "output_type": "stream",
     "text": [
      "PROGRESS: Finished prediction in 0.065216s\n"
     ]
    },
    {
     "data": {
      "text/plain": [
       "1.0295674849348777"
      ]
     },
     "execution_count": 50,
     "metadata": {},
     "output_type": "execute_result"
    }
   ],
   "source": [
    "rmse_movie = model_movie.evaluate(validation_subset,verbose=False)\n",
    "rmse_movie['rmse_overall']"
   ]
  },
  {
   "cell_type": "code",
   "execution_count": 51,
   "metadata": {
    "collapsed": false
   },
   "outputs": [
    {
     "name": "stdout",
     "output_type": "stream",
     "text": [
      "PROGRESS: Recsys training: model = popularity\n"
     ]
    }
   ],
   "source": [
    "model_pop = graphlab.recommender.popularity_recommender.create(training_subset, \n",
    "                                                                    user_id='user',\n",
    "                                                                    item_id='movie',\n",
    "                                                                    target='rating',\n",
    "                                                                    user_data=gdf_users,\n",
    "                                                                    item_data=gdf_movies,\n",
    "                                                                    verbose=False)"
   ]
  },
  {
   "cell_type": "code",
   "execution_count": 52,
   "metadata": {
    "collapsed": false
   },
   "outputs": [
    {
     "data": {
      "text/plain": [
       "1.0012302918674774"
      ]
     },
     "execution_count": 52,
     "metadata": {},
     "output_type": "execute_result"
    }
   ],
   "source": [
    "rmse_pop = model_pop.evaluate(validation_subset,verbose=False)\n",
    "rmse_pop['rmse_overall']"
   ]
  },
  {
   "cell_type": "markdown",
   "metadata": {},
   "source": [
    "# Predict test data"
   ]
  },
  {
   "cell_type": "markdown",
   "metadata": {},
   "source": [
    "For each user, our scoring metric will select the 5% of movies you thought would be most highly rated by that user. It then looks at the actual ratings (in the test data) that the user gave those movies. Your score is the average of those ratings."
   ]
  },
  {
   "cell_type": "markdown",
   "metadata": {},
   "source": [
    "Using this metrics, factorization_recommender with adagrad > popularity_recommender > default factorization_recommender model > item_user or item_movie. It seems that RMSE is somewhat indicative of model performance."
   ]
  },
  {
   "cell_type": "code",
   "execution_count": 53,
   "metadata": {
    "collapsed": true
   },
   "outputs": [],
   "source": [
    "gdf_test = graphlab.SFrame(test.drop('id', axis=1))"
   ]
  },
  {
   "cell_type": "code",
   "execution_count": 54,
   "metadata": {
    "collapsed": false
   },
   "outputs": [
    {
     "data": {
      "text/html": [
       "<div>\n",
       "<table border=\"1\" class=\"dataframe\">\n",
       "  <thead>\n",
       "    <tr style=\"text-align: right;\">\n",
       "      <th></th>\n",
       "      <th>user</th>\n",
       "      <th>id</th>\n",
       "      <th>rating</th>\n",
       "    </tr>\n",
       "  </thead>\n",
       "  <tbody>\n",
       "    <tr>\n",
       "      <th>0</th>\n",
       "      <td>1</td>\n",
       "      <td>1_1193</td>\n",
       "      <td>5</td>\n",
       "    </tr>\n",
       "    <tr>\n",
       "      <th>1</th>\n",
       "      <td>1</td>\n",
       "      <td>1_661</td>\n",
       "      <td>3</td>\n",
       "    </tr>\n",
       "    <tr>\n",
       "      <th>2</th>\n",
       "      <td>1</td>\n",
       "      <td>1_914</td>\n",
       "      <td>3</td>\n",
       "    </tr>\n",
       "    <tr>\n",
       "      <th>3</th>\n",
       "      <td>1</td>\n",
       "      <td>1_3408</td>\n",
       "      <td>4</td>\n",
       "    </tr>\n",
       "    <tr>\n",
       "      <th>4</th>\n",
       "      <td>1</td>\n",
       "      <td>1_2355</td>\n",
       "      <td>5</td>\n",
       "    </tr>\n",
       "  </tbody>\n",
       "</table>\n",
       "</div>"
      ],
      "text/plain": [
       "   user      id  rating\n",
       "0     1  1_1193       5\n",
       "1     1   1_661       3\n",
       "2     1   1_914       3\n",
       "3     1  1_3408       4\n",
       "4     1  1_2355       5"
      ]
     },
     "execution_count": 54,
     "metadata": {},
     "output_type": "execute_result"
    }
   ],
   "source": [
    "#the data used for scoring, same group of users as the test dataset\n",
    "test2 = pd.read_csv('data/dont_use.csv')\n",
    "test2.head()"
   ]
  },
  {
   "cell_type": "code",
   "execution_count": 56,
   "metadata": {
    "collapsed": false
   },
   "outputs": [
    {
     "name": "stdout",
     "output_type": "stream",
     "text": [
      "3415\n",
      "3415\n",
      "3415\n"
     ]
    }
   ],
   "source": [
    "print len(test.user.unique())\n",
    "print len(test2.user.unique())\n",
    "print sum(test.user.unique() == test2.user.unique())"
   ]
  },
  {
   "cell_type": "code",
   "execution_count": 57,
   "metadata": {
    "collapsed": false
   },
   "outputs": [
    {
     "data": {
      "text/plain": [
       "4.30399910048349"
      ]
     },
     "execution_count": 57,
     "metadata": {},
     "output_type": "execute_result"
    }
   ],
   "source": [
    "#the default factorization_recommender model\n",
    "test['rating'] = model_1.predict(gdf_test)\n",
    "g = test.groupby('user')\n",
    "top_5 = g.rating.transform(lambda x: x >= x.quantile(.95))\n",
    "test2.rating[top_5==1].mean()"
   ]
  },
  {
   "cell_type": "code",
   "execution_count": 58,
   "metadata": {
    "collapsed": false
   },
   "outputs": [
    {
     "data": {
      "text/plain": [
       "4.313160458667466"
      ]
     },
     "execution_count": 58,
     "metadata": {},
     "output_type": "execute_result"
    }
   ],
   "source": [
    "#use popularity_recommender model\n",
    "test['rating'] = model_pop.predict(gdf_test)\n",
    "g = test.groupby('user')\n",
    "top_5 = g.rating.transform(lambda x: x >= x.quantile(.95))\n",
    "test2.rating[top_5==1].mean()"
   ]
  },
  {
   "cell_type": "code",
   "execution_count": 60,
   "metadata": {
    "collapsed": false
   },
   "outputs": [
    {
     "name": "stdout",
     "output_type": "stream",
     "text": [
      "PROGRESS: Finished prediction in 0.199819s\n"
     ]
    },
    {
     "data": {
      "text/plain": [
       "3.570325577319136"
      ]
     },
     "execution_count": 60,
     "metadata": {},
     "output_type": "execute_result"
    }
   ],
   "source": [
    "#use item_user model\n",
    "test['rating'] = model_user.predict(gdf_test)\n",
    "g = test.groupby('user')\n",
    "top_5 = g.rating.transform(lambda x: x >= x.quantile(.95))\n",
    "test2.rating[top_5==1].mean()"
   ]
  },
  {
   "cell_type": "code",
   "execution_count": 61,
   "metadata": {
    "collapsed": false
   },
   "outputs": [
    {
     "name": "stdout",
     "output_type": "stream",
     "text": [
      "PROGRESS: Finished prediction in 0.53491s\n"
     ]
    },
    {
     "data": {
      "text/plain": [
       "3.7860111013376203"
      ]
     },
     "execution_count": 61,
     "metadata": {},
     "output_type": "execute_result"
    }
   ],
   "source": [
    "#use item_movie model\n",
    "test['rating'] = model_movie.predict(gdf_test)\n",
    "g = test.groupby('user')\n",
    "top_5 = g.rating.transform(lambda x: x >= x.quantile(.95))\n",
    "test2.rating[top_5==1].mean()"
   ]
  },
  {
   "cell_type": "code",
   "execution_count": 62,
   "metadata": {
    "collapsed": false
   },
   "outputs": [
    {
     "data": {
      "text/plain": [
       "4.3245380607923245"
      ]
     },
     "execution_count": 62,
     "metadata": {},
     "output_type": "execute_result"
    }
   ],
   "source": [
    "#use adagrad factorization_recommender model\n",
    "test['rating'] = model_5.predict(gdf_test)\n",
    "g = test.groupby('user')\n",
    "top_5 = g.rating.transform(lambda x: x >= x.quantile(.95))\n",
    "test2.rating[top_5==1].mean()"
   ]
  },
  {
   "cell_type": "code",
   "execution_count": 63,
   "metadata": {
    "collapsed": false
   },
   "outputs": [
    {
     "name": "stdout",
     "output_type": "stream",
     "text": [
      "PROGRESS: Recsys training: model = factorization_recommender\n"
     ]
    }
   ],
   "source": [
    "#retrain model with whole dataset\n",
    "model_factor1 = graphlab.recommender.factorization_recommender.create(gdf_ratings,\n",
    "                                                                    user_id='user',\n",
    "                                                                    item_id='movie',\n",
    "                                                                    target='rating',\n",
    "                                                                    user_data=gdf_users,\n",
    "                                                                    item_data=gdf_movies,\n",
    "                                                                    side_data_factorization=True,\n",
    "                                                                    verbose=False)"
   ]
  },
  {
   "cell_type": "code",
   "execution_count": 64,
   "metadata": {
    "collapsed": false
   },
   "outputs": [
    {
     "data": {
      "text/plain": [
       "4.305835613357821"
      ]
     },
     "execution_count": 64,
     "metadata": {},
     "output_type": "execute_result"
    }
   ],
   "source": [
    "test['rating'] = model_factor1.predict(gdf_test)\n",
    "g = test.groupby('user')\n",
    "top_5 = g.rating.transform(lambda x: x >= x.quantile(.95))\n",
    "test2.rating[top_5==1].mean()"
   ]
  },
  {
   "cell_type": "code",
   "execution_count": 65,
   "metadata": {
    "collapsed": false
   },
   "outputs": [
    {
     "name": "stdout",
     "output_type": "stream",
     "text": [
      "PROGRESS: Recsys training: model = factorization_recommender\n"
     ]
    }
   ],
   "source": [
    "#remove side data from factorization_recommender\n",
    "model_factor2 = graphlab.recommender.factorization_recommender.create(gdf_ratings,\n",
    "                                                                    user_id='user',\n",
    "                                                                    item_id='movie',\n",
    "                                                                    target='rating',\n",
    "                                                                    #user_data=gdf_users,\n",
    "                                                                    #item_data=gdf_movies,\n",
    "                                                                    side_data_factorization=False,\n",
    "                                                                    verbose=False)"
   ]
  },
  {
   "cell_type": "code",
   "execution_count": 66,
   "metadata": {
    "collapsed": false
   },
   "outputs": [
    {
     "data": {
      "text/plain": [
       "4.3197781192608975"
      ]
     },
     "execution_count": 66,
     "metadata": {},
     "output_type": "execute_result"
    }
   ],
   "source": [
    "test['rating'] = model_factor2.predict(gdf_test)\n",
    "g = test.groupby('user')\n",
    "top_5 = g.rating.transform(lambda x: x >= x.quantile(.95))\n",
    "test2.rating[top_5==1].mean()"
   ]
  },
  {
   "cell_type": "code",
   "execution_count": null,
   "metadata": {
    "collapsed": true
   },
   "outputs": [],
   "source": []
  }
 ],
 "metadata": {
  "kernelspec": {
   "display_name": "Python 2",
   "language": "python",
   "name": "python2"
  },
  "language_info": {
   "codemirror_mode": {
    "name": "ipython",
    "version": 2
   },
   "file_extension": ".py",
   "mimetype": "text/x-python",
   "name": "python",
   "nbconvert_exporter": "python",
   "pygments_lexer": "ipython2",
   "version": "2.7.11"
  }
 },
 "nbformat": 4,
 "nbformat_minor": 0
}
